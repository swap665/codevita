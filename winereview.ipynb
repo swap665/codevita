{
  "nbformat": 4,
  "nbformat_minor": 0,
  "metadata": {
    "colab": {
      "provenance": []
    },
    "kernelspec": {
      "name": "python3",
      "display_name": "Python 3"
    },
    "language_info": {
      "name": "python"
    }
  },
  "cells": [
    {
      "cell_type": "code",
      "execution_count": 2,
      "metadata": {
        "colab": {
          "base_uri": "https://localhost:8080/",
          "height": 1000
        },
        "id": "dp3Z9GR1y6-H",
        "outputId": "f65ef9cc-9265-436c-d5a3-29ec0267bc20"
      },
      "outputs": [
        {
          "output_type": "execute_result",
          "data": {
            "text/plain": [
              "        Unnamed: 0   country  \\\n",
              "0                0     Italy   \n",
              "1                1  Portugal   \n",
              "2                2        US   \n",
              "3                3        US   \n",
              "4                4        US   \n",
              "...            ...       ...   \n",
              "113464      113464        US   \n",
              "113465      113465        US   \n",
              "113466      113466        US   \n",
              "113467      113467        US   \n",
              "113468      113468        US   \n",
              "\n",
              "                                              description  \\\n",
              "0       Aromas include tropical fruit, broom, brimston...   \n",
              "1       This is ripe and fruity, a wine that is smooth...   \n",
              "2       Tart and snappy, the flavors of lime flesh and...   \n",
              "3       Pineapple rind, lemon pith and orange blossom ...   \n",
              "4       Much like the regular bottling from 2012, this...   \n",
              "...                                                   ...   \n",
              "113464  Strawberry fruit defines this open, broad-flav...   \n",
              "113465  Fresh and enticing aromas of blackberry, raspb...   \n",
              "113466  Consistent with the previous vintage, this com...   \n",
              "113467  This full-bodied attractively dry wine has ver...   \n",
              "113468  One of the more substantial examples of rosé, ...   \n",
              "\n",
              "                               designation  points  price           province  \\\n",
              "0                             Vulkà Bianco      87    NaN  Sicily & Sardinia   \n",
              "1                                 Avidagos      87   15.0              Douro   \n",
              "2                                      NaN      87   14.0             Oregon   \n",
              "3                     Reserve Late Harvest      87   13.0           Michigan   \n",
              "4       Vintner's Reserve Wild Child Block      87   65.0             Oregon   \n",
              "...                                    ...     ...    ...                ...   \n",
              "113464         Freedom Stand Sure Vineyard      89   29.0             Oregon   \n",
              "113465                               Roots      89   50.0           Virginia   \n",
              "113466                       Orchard Block      89   70.0             Oregon   \n",
              "113467                        Ball & Chain      89   28.0         California   \n",
              "113468                                 NaN      89   16.0         California   \n",
              "\n",
              "                   region_1           region_2         taster_name  \\\n",
              "0                      Etna                NaN       Kerin O’Keefe   \n",
              "1                       NaN                NaN          Roger Voss   \n",
              "2         Willamette Valley  Willamette Valley        Paul Gregutt   \n",
              "3       Lake Michigan Shore                NaN  Alexander Peartree   \n",
              "4         Willamette Valley  Willamette Valley        Paul Gregutt   \n",
              "...                     ...                ...                 ...   \n",
              "113464     Eola-Amity Hills  Willamette Valley        Paul Gregutt   \n",
              "113465             Virginia                NaN        Carrie Dykes   \n",
              "113466         Dundee Hills  Willamette Valley        Paul Gregutt   \n",
              "113467           California   California Other          Jim Gordon   \n",
              "113468       Dunnigan Hills     Central Valley          Jim Gordon   \n",
              "\n",
              "       taster_twitter_handle  \\\n",
              "0               @kerinokeefe   \n",
              "1                 @vossroger   \n",
              "2                @paulgwine    \n",
              "3                        NaN   \n",
              "4                @paulgwine    \n",
              "...                      ...   \n",
              "113464           @paulgwine    \n",
              "113465                   NaN   \n",
              "113466           @paulgwine    \n",
              "113467      @gordone_cellars   \n",
              "113468      @gordone_cellars   \n",
              "\n",
              "                                                    title  \\\n",
              "0                       Nicosia 2013 Vulkà Bianco  (Etna)   \n",
              "1           Quinta dos Avidagos 2011 Avidagos Red (Douro)   \n",
              "2           Rainstorm 2013 Pinot Gris (Willamette Valley)   \n",
              "3       St. Julian 2013 Reserve Late Harvest Riesling ...   \n",
              "4       Sweet Cheeks 2012 Vintner's Reserve Wild Child...   \n",
              "...                                                   ...   \n",
              "113464  Schultz 2014 Freedom Stand Sure Vineyard Pinot...   \n",
              "113465               Slater Run 2014 Roots Red (Virginia)   \n",
              "113466  Sokol Blosser 2014 Orchard Block Pinot Noir (D...   \n",
              "113467  Solitary Cellars 2014 Ball & Chain Red (Califo...   \n",
              "113468                                             Tinto    \n",
              "\n",
              "                         variety               winery  \n",
              "0                    White Blend              Nicosia  \n",
              "1                 Portuguese Red  Quinta dos Avidagos  \n",
              "2                     Pinot Gris            Rainstorm  \n",
              "3                       Riesling           St. Julian  \n",
              "4                     Pinot Noir         Sweet Cheeks  \n",
              "...                          ...                  ...  \n",
              "113464                Pinot Noir              Schultz  \n",
              "113465  Bordeaux-style Red Blend           Slater Run  \n",
              "113466                Pinot Noir        Sokol Blosser  \n",
              "113467                 Red Blend     Solitary Cellars  \n",
              "113468                       NaN                  NaN  \n",
              "\n",
              "[113469 rows x 14 columns]"
            ],
            "text/html": [
              "\n",
              "  <div id=\"df-39d9ae1b-e84a-4aa2-a46f-8de97291c116\">\n",
              "    <div class=\"colab-df-container\">\n",
              "      <div>\n",
              "<style scoped>\n",
              "    .dataframe tbody tr th:only-of-type {\n",
              "        vertical-align: middle;\n",
              "    }\n",
              "\n",
              "    .dataframe tbody tr th {\n",
              "        vertical-align: top;\n",
              "    }\n",
              "\n",
              "    .dataframe thead th {\n",
              "        text-align: right;\n",
              "    }\n",
              "</style>\n",
              "<table border=\"1\" class=\"dataframe\">\n",
              "  <thead>\n",
              "    <tr style=\"text-align: right;\">\n",
              "      <th></th>\n",
              "      <th>Unnamed: 0</th>\n",
              "      <th>country</th>\n",
              "      <th>description</th>\n",
              "      <th>designation</th>\n",
              "      <th>points</th>\n",
              "      <th>price</th>\n",
              "      <th>province</th>\n",
              "      <th>region_1</th>\n",
              "      <th>region_2</th>\n",
              "      <th>taster_name</th>\n",
              "      <th>taster_twitter_handle</th>\n",
              "      <th>title</th>\n",
              "      <th>variety</th>\n",
              "      <th>winery</th>\n",
              "    </tr>\n",
              "  </thead>\n",
              "  <tbody>\n",
              "    <tr>\n",
              "      <th>0</th>\n",
              "      <td>0</td>\n",
              "      <td>Italy</td>\n",
              "      <td>Aromas include tropical fruit, broom, brimston...</td>\n",
              "      <td>Vulkà Bianco</td>\n",
              "      <td>87</td>\n",
              "      <td>NaN</td>\n",
              "      <td>Sicily &amp; Sardinia</td>\n",
              "      <td>Etna</td>\n",
              "      <td>NaN</td>\n",
              "      <td>Kerin O’Keefe</td>\n",
              "      <td>@kerinokeefe</td>\n",
              "      <td>Nicosia 2013 Vulkà Bianco  (Etna)</td>\n",
              "      <td>White Blend</td>\n",
              "      <td>Nicosia</td>\n",
              "    </tr>\n",
              "    <tr>\n",
              "      <th>1</th>\n",
              "      <td>1</td>\n",
              "      <td>Portugal</td>\n",
              "      <td>This is ripe and fruity, a wine that is smooth...</td>\n",
              "      <td>Avidagos</td>\n",
              "      <td>87</td>\n",
              "      <td>15.0</td>\n",
              "      <td>Douro</td>\n",
              "      <td>NaN</td>\n",
              "      <td>NaN</td>\n",
              "      <td>Roger Voss</td>\n",
              "      <td>@vossroger</td>\n",
              "      <td>Quinta dos Avidagos 2011 Avidagos Red (Douro)</td>\n",
              "      <td>Portuguese Red</td>\n",
              "      <td>Quinta dos Avidagos</td>\n",
              "    </tr>\n",
              "    <tr>\n",
              "      <th>2</th>\n",
              "      <td>2</td>\n",
              "      <td>US</td>\n",
              "      <td>Tart and snappy, the flavors of lime flesh and...</td>\n",
              "      <td>NaN</td>\n",
              "      <td>87</td>\n",
              "      <td>14.0</td>\n",
              "      <td>Oregon</td>\n",
              "      <td>Willamette Valley</td>\n",
              "      <td>Willamette Valley</td>\n",
              "      <td>Paul Gregutt</td>\n",
              "      <td>@paulgwine</td>\n",
              "      <td>Rainstorm 2013 Pinot Gris (Willamette Valley)</td>\n",
              "      <td>Pinot Gris</td>\n",
              "      <td>Rainstorm</td>\n",
              "    </tr>\n",
              "    <tr>\n",
              "      <th>3</th>\n",
              "      <td>3</td>\n",
              "      <td>US</td>\n",
              "      <td>Pineapple rind, lemon pith and orange blossom ...</td>\n",
              "      <td>Reserve Late Harvest</td>\n",
              "      <td>87</td>\n",
              "      <td>13.0</td>\n",
              "      <td>Michigan</td>\n",
              "      <td>Lake Michigan Shore</td>\n",
              "      <td>NaN</td>\n",
              "      <td>Alexander Peartree</td>\n",
              "      <td>NaN</td>\n",
              "      <td>St. Julian 2013 Reserve Late Harvest Riesling ...</td>\n",
              "      <td>Riesling</td>\n",
              "      <td>St. Julian</td>\n",
              "    </tr>\n",
              "    <tr>\n",
              "      <th>4</th>\n",
              "      <td>4</td>\n",
              "      <td>US</td>\n",
              "      <td>Much like the regular bottling from 2012, this...</td>\n",
              "      <td>Vintner's Reserve Wild Child Block</td>\n",
              "      <td>87</td>\n",
              "      <td>65.0</td>\n",
              "      <td>Oregon</td>\n",
              "      <td>Willamette Valley</td>\n",
              "      <td>Willamette Valley</td>\n",
              "      <td>Paul Gregutt</td>\n",
              "      <td>@paulgwine</td>\n",
              "      <td>Sweet Cheeks 2012 Vintner's Reserve Wild Child...</td>\n",
              "      <td>Pinot Noir</td>\n",
              "      <td>Sweet Cheeks</td>\n",
              "    </tr>\n",
              "    <tr>\n",
              "      <th>...</th>\n",
              "      <td>...</td>\n",
              "      <td>...</td>\n",
              "      <td>...</td>\n",
              "      <td>...</td>\n",
              "      <td>...</td>\n",
              "      <td>...</td>\n",
              "      <td>...</td>\n",
              "      <td>...</td>\n",
              "      <td>...</td>\n",
              "      <td>...</td>\n",
              "      <td>...</td>\n",
              "      <td>...</td>\n",
              "      <td>...</td>\n",
              "      <td>...</td>\n",
              "    </tr>\n",
              "    <tr>\n",
              "      <th>113464</th>\n",
              "      <td>113464</td>\n",
              "      <td>US</td>\n",
              "      <td>Strawberry fruit defines this open, broad-flav...</td>\n",
              "      <td>Freedom Stand Sure Vineyard</td>\n",
              "      <td>89</td>\n",
              "      <td>29.0</td>\n",
              "      <td>Oregon</td>\n",
              "      <td>Eola-Amity Hills</td>\n",
              "      <td>Willamette Valley</td>\n",
              "      <td>Paul Gregutt</td>\n",
              "      <td>@paulgwine</td>\n",
              "      <td>Schultz 2014 Freedom Stand Sure Vineyard Pinot...</td>\n",
              "      <td>Pinot Noir</td>\n",
              "      <td>Schultz</td>\n",
              "    </tr>\n",
              "    <tr>\n",
              "      <th>113465</th>\n",
              "      <td>113465</td>\n",
              "      <td>US</td>\n",
              "      <td>Fresh and enticing aromas of blackberry, raspb...</td>\n",
              "      <td>Roots</td>\n",
              "      <td>89</td>\n",
              "      <td>50.0</td>\n",
              "      <td>Virginia</td>\n",
              "      <td>Virginia</td>\n",
              "      <td>NaN</td>\n",
              "      <td>Carrie Dykes</td>\n",
              "      <td>NaN</td>\n",
              "      <td>Slater Run 2014 Roots Red (Virginia)</td>\n",
              "      <td>Bordeaux-style Red Blend</td>\n",
              "      <td>Slater Run</td>\n",
              "    </tr>\n",
              "    <tr>\n",
              "      <th>113466</th>\n",
              "      <td>113466</td>\n",
              "      <td>US</td>\n",
              "      <td>Consistent with the previous vintage, this com...</td>\n",
              "      <td>Orchard Block</td>\n",
              "      <td>89</td>\n",
              "      <td>70.0</td>\n",
              "      <td>Oregon</td>\n",
              "      <td>Dundee Hills</td>\n",
              "      <td>Willamette Valley</td>\n",
              "      <td>Paul Gregutt</td>\n",
              "      <td>@paulgwine</td>\n",
              "      <td>Sokol Blosser 2014 Orchard Block Pinot Noir (D...</td>\n",
              "      <td>Pinot Noir</td>\n",
              "      <td>Sokol Blosser</td>\n",
              "    </tr>\n",
              "    <tr>\n",
              "      <th>113467</th>\n",
              "      <td>113467</td>\n",
              "      <td>US</td>\n",
              "      <td>This full-bodied attractively dry wine has ver...</td>\n",
              "      <td>Ball &amp; Chain</td>\n",
              "      <td>89</td>\n",
              "      <td>28.0</td>\n",
              "      <td>California</td>\n",
              "      <td>California</td>\n",
              "      <td>California Other</td>\n",
              "      <td>Jim Gordon</td>\n",
              "      <td>@gordone_cellars</td>\n",
              "      <td>Solitary Cellars 2014 Ball &amp; Chain Red (Califo...</td>\n",
              "      <td>Red Blend</td>\n",
              "      <td>Solitary Cellars</td>\n",
              "    </tr>\n",
              "    <tr>\n",
              "      <th>113468</th>\n",
              "      <td>113468</td>\n",
              "      <td>US</td>\n",
              "      <td>One of the more substantial examples of rosé, ...</td>\n",
              "      <td>NaN</td>\n",
              "      <td>89</td>\n",
              "      <td>16.0</td>\n",
              "      <td>California</td>\n",
              "      <td>Dunnigan Hills</td>\n",
              "      <td>Central Valley</td>\n",
              "      <td>Jim Gordon</td>\n",
              "      <td>@gordone_cellars</td>\n",
              "      <td>Tinto</td>\n",
              "      <td>NaN</td>\n",
              "      <td>NaN</td>\n",
              "    </tr>\n",
              "  </tbody>\n",
              "</table>\n",
              "<p>113469 rows × 14 columns</p>\n",
              "</div>\n",
              "      <button class=\"colab-df-convert\" onclick=\"convertToInteractive('df-39d9ae1b-e84a-4aa2-a46f-8de97291c116')\"\n",
              "              title=\"Convert this dataframe to an interactive table.\"\n",
              "              style=\"display:none;\">\n",
              "        \n",
              "  <svg xmlns=\"http://www.w3.org/2000/svg\" height=\"24px\"viewBox=\"0 0 24 24\"\n",
              "       width=\"24px\">\n",
              "    <path d=\"M0 0h24v24H0V0z\" fill=\"none\"/>\n",
              "    <path d=\"M18.56 5.44l.94 2.06.94-2.06 2.06-.94-2.06-.94-.94-2.06-.94 2.06-2.06.94zm-11 1L8.5 8.5l.94-2.06 2.06-.94-2.06-.94L8.5 2.5l-.94 2.06-2.06.94zm10 10l.94 2.06.94-2.06 2.06-.94-2.06-.94-.94-2.06-.94 2.06-2.06.94z\"/><path d=\"M17.41 7.96l-1.37-1.37c-.4-.4-.92-.59-1.43-.59-.52 0-1.04.2-1.43.59L10.3 9.45l-7.72 7.72c-.78.78-.78 2.05 0 2.83L4 21.41c.39.39.9.59 1.41.59.51 0 1.02-.2 1.41-.59l7.78-7.78 2.81-2.81c.8-.78.8-2.07 0-2.86zM5.41 20L4 18.59l7.72-7.72 1.47 1.35L5.41 20z\"/>\n",
              "  </svg>\n",
              "      </button>\n",
              "      \n",
              "  <style>\n",
              "    .colab-df-container {\n",
              "      display:flex;\n",
              "      flex-wrap:wrap;\n",
              "      gap: 12px;\n",
              "    }\n",
              "\n",
              "    .colab-df-convert {\n",
              "      background-color: #E8F0FE;\n",
              "      border: none;\n",
              "      border-radius: 50%;\n",
              "      cursor: pointer;\n",
              "      display: none;\n",
              "      fill: #1967D2;\n",
              "      height: 32px;\n",
              "      padding: 0 0 0 0;\n",
              "      width: 32px;\n",
              "    }\n",
              "\n",
              "    .colab-df-convert:hover {\n",
              "      background-color: #E2EBFA;\n",
              "      box-shadow: 0px 1px 2px rgba(60, 64, 67, 0.3), 0px 1px 3px 1px rgba(60, 64, 67, 0.15);\n",
              "      fill: #174EA6;\n",
              "    }\n",
              "\n",
              "    [theme=dark] .colab-df-convert {\n",
              "      background-color: #3B4455;\n",
              "      fill: #D2E3FC;\n",
              "    }\n",
              "\n",
              "    [theme=dark] .colab-df-convert:hover {\n",
              "      background-color: #434B5C;\n",
              "      box-shadow: 0px 1px 3px 1px rgba(0, 0, 0, 0.15);\n",
              "      filter: drop-shadow(0px 1px 2px rgba(0, 0, 0, 0.3));\n",
              "      fill: #FFFFFF;\n",
              "    }\n",
              "  </style>\n",
              "\n",
              "      <script>\n",
              "        const buttonEl =\n",
              "          document.querySelector('#df-39d9ae1b-e84a-4aa2-a46f-8de97291c116 button.colab-df-convert');\n",
              "        buttonEl.style.display =\n",
              "          google.colab.kernel.accessAllowed ? 'block' : 'none';\n",
              "\n",
              "        async function convertToInteractive(key) {\n",
              "          const element = document.querySelector('#df-39d9ae1b-e84a-4aa2-a46f-8de97291c116');\n",
              "          const dataTable =\n",
              "            await google.colab.kernel.invokeFunction('convertToInteractive',\n",
              "                                                     [key], {});\n",
              "          if (!dataTable) return;\n",
              "\n",
              "          const docLinkHtml = 'Like what you see? Visit the ' +\n",
              "            '<a target=\"_blank\" href=https://colab.research.google.com/notebooks/data_table.ipynb>data table notebook</a>'\n",
              "            + ' to learn more about interactive tables.';\n",
              "          element.innerHTML = '';\n",
              "          dataTable['output_type'] = 'display_data';\n",
              "          await google.colab.output.renderOutput(dataTable, element);\n",
              "          const docLink = document.createElement('div');\n",
              "          docLink.innerHTML = docLinkHtml;\n",
              "          element.appendChild(docLink);\n",
              "        }\n",
              "      </script>\n",
              "    </div>\n",
              "  </div>\n",
              "  "
            ]
          },
          "metadata": {},
          "execution_count": 2
        }
      ],
      "source": [
        "import pandas as pd\n",
        "df=pd.read_csv(\"wine-reviews.csv\")\n",
        "df"
      ]
    },
    {
      "cell_type": "code",
      "source": [
        "df.shape"
      ],
      "metadata": {
        "colab": {
          "base_uri": "https://localhost:8080/"
        },
        "id": "vOCOGWHkIOfi",
        "outputId": "2eec5d98-2d6d-4518-e853-3fefdece660b"
      },
      "execution_count": 3,
      "outputs": [
        {
          "output_type": "execute_result",
          "data": {
            "text/plain": [
              "(113469, 14)"
            ]
          },
          "metadata": {},
          "execution_count": 3
        }
      ]
    },
    {
      "cell_type": "code",
      "source": [
        "df.describe()"
      ],
      "metadata": {
        "colab": {
          "base_uri": "https://localhost:8080/",
          "height": 300
        },
        "id": "vhHljannISdh",
        "outputId": "722eee7a-b04c-4f2c-d6ca-927a1ac2839a"
      },
      "execution_count": 4,
      "outputs": [
        {
          "output_type": "execute_result",
          "data": {
            "text/plain": [
              "          Unnamed: 0         points          price\n",
              "count  113469.000000  113469.000000  105546.000000\n",
              "mean    56734.000000      88.421243      35.129176\n",
              "std     32755.823185       3.022056      40.503308\n",
              "min         0.000000      80.000000       4.000000\n",
              "25%     28367.000000      86.000000      17.000000\n",
              "50%     56734.000000      88.000000      25.000000\n",
              "75%     85101.000000      91.000000      42.000000\n",
              "max    113468.000000     100.000000    3300.000000"
            ],
            "text/html": [
              "\n",
              "  <div id=\"df-39174a9b-c8cb-472a-9102-6126820ab5f5\">\n",
              "    <div class=\"colab-df-container\">\n",
              "      <div>\n",
              "<style scoped>\n",
              "    .dataframe tbody tr th:only-of-type {\n",
              "        vertical-align: middle;\n",
              "    }\n",
              "\n",
              "    .dataframe tbody tr th {\n",
              "        vertical-align: top;\n",
              "    }\n",
              "\n",
              "    .dataframe thead th {\n",
              "        text-align: right;\n",
              "    }\n",
              "</style>\n",
              "<table border=\"1\" class=\"dataframe\">\n",
              "  <thead>\n",
              "    <tr style=\"text-align: right;\">\n",
              "      <th></th>\n",
              "      <th>Unnamed: 0</th>\n",
              "      <th>points</th>\n",
              "      <th>price</th>\n",
              "    </tr>\n",
              "  </thead>\n",
              "  <tbody>\n",
              "    <tr>\n",
              "      <th>count</th>\n",
              "      <td>113469.000000</td>\n",
              "      <td>113469.000000</td>\n",
              "      <td>105546.000000</td>\n",
              "    </tr>\n",
              "    <tr>\n",
              "      <th>mean</th>\n",
              "      <td>56734.000000</td>\n",
              "      <td>88.421243</td>\n",
              "      <td>35.129176</td>\n",
              "    </tr>\n",
              "    <tr>\n",
              "      <th>std</th>\n",
              "      <td>32755.823185</td>\n",
              "      <td>3.022056</td>\n",
              "      <td>40.503308</td>\n",
              "    </tr>\n",
              "    <tr>\n",
              "      <th>min</th>\n",
              "      <td>0.000000</td>\n",
              "      <td>80.000000</td>\n",
              "      <td>4.000000</td>\n",
              "    </tr>\n",
              "    <tr>\n",
              "      <th>25%</th>\n",
              "      <td>28367.000000</td>\n",
              "      <td>86.000000</td>\n",
              "      <td>17.000000</td>\n",
              "    </tr>\n",
              "    <tr>\n",
              "      <th>50%</th>\n",
              "      <td>56734.000000</td>\n",
              "      <td>88.000000</td>\n",
              "      <td>25.000000</td>\n",
              "    </tr>\n",
              "    <tr>\n",
              "      <th>75%</th>\n",
              "      <td>85101.000000</td>\n",
              "      <td>91.000000</td>\n",
              "      <td>42.000000</td>\n",
              "    </tr>\n",
              "    <tr>\n",
              "      <th>max</th>\n",
              "      <td>113468.000000</td>\n",
              "      <td>100.000000</td>\n",
              "      <td>3300.000000</td>\n",
              "    </tr>\n",
              "  </tbody>\n",
              "</table>\n",
              "</div>\n",
              "      <button class=\"colab-df-convert\" onclick=\"convertToInteractive('df-39174a9b-c8cb-472a-9102-6126820ab5f5')\"\n",
              "              title=\"Convert this dataframe to an interactive table.\"\n",
              "              style=\"display:none;\">\n",
              "        \n",
              "  <svg xmlns=\"http://www.w3.org/2000/svg\" height=\"24px\"viewBox=\"0 0 24 24\"\n",
              "       width=\"24px\">\n",
              "    <path d=\"M0 0h24v24H0V0z\" fill=\"none\"/>\n",
              "    <path d=\"M18.56 5.44l.94 2.06.94-2.06 2.06-.94-2.06-.94-.94-2.06-.94 2.06-2.06.94zm-11 1L8.5 8.5l.94-2.06 2.06-.94-2.06-.94L8.5 2.5l-.94 2.06-2.06.94zm10 10l.94 2.06.94-2.06 2.06-.94-2.06-.94-.94-2.06-.94 2.06-2.06.94z\"/><path d=\"M17.41 7.96l-1.37-1.37c-.4-.4-.92-.59-1.43-.59-.52 0-1.04.2-1.43.59L10.3 9.45l-7.72 7.72c-.78.78-.78 2.05 0 2.83L4 21.41c.39.39.9.59 1.41.59.51 0 1.02-.2 1.41-.59l7.78-7.78 2.81-2.81c.8-.78.8-2.07 0-2.86zM5.41 20L4 18.59l7.72-7.72 1.47 1.35L5.41 20z\"/>\n",
              "  </svg>\n",
              "      </button>\n",
              "      \n",
              "  <style>\n",
              "    .colab-df-container {\n",
              "      display:flex;\n",
              "      flex-wrap:wrap;\n",
              "      gap: 12px;\n",
              "    }\n",
              "\n",
              "    .colab-df-convert {\n",
              "      background-color: #E8F0FE;\n",
              "      border: none;\n",
              "      border-radius: 50%;\n",
              "      cursor: pointer;\n",
              "      display: none;\n",
              "      fill: #1967D2;\n",
              "      height: 32px;\n",
              "      padding: 0 0 0 0;\n",
              "      width: 32px;\n",
              "    }\n",
              "\n",
              "    .colab-df-convert:hover {\n",
              "      background-color: #E2EBFA;\n",
              "      box-shadow: 0px 1px 2px rgba(60, 64, 67, 0.3), 0px 1px 3px 1px rgba(60, 64, 67, 0.15);\n",
              "      fill: #174EA6;\n",
              "    }\n",
              "\n",
              "    [theme=dark] .colab-df-convert {\n",
              "      background-color: #3B4455;\n",
              "      fill: #D2E3FC;\n",
              "    }\n",
              "\n",
              "    [theme=dark] .colab-df-convert:hover {\n",
              "      background-color: #434B5C;\n",
              "      box-shadow: 0px 1px 3px 1px rgba(0, 0, 0, 0.15);\n",
              "      filter: drop-shadow(0px 1px 2px rgba(0, 0, 0, 0.3));\n",
              "      fill: #FFFFFF;\n",
              "    }\n",
              "  </style>\n",
              "\n",
              "      <script>\n",
              "        const buttonEl =\n",
              "          document.querySelector('#df-39174a9b-c8cb-472a-9102-6126820ab5f5 button.colab-df-convert');\n",
              "        buttonEl.style.display =\n",
              "          google.colab.kernel.accessAllowed ? 'block' : 'none';\n",
              "\n",
              "        async function convertToInteractive(key) {\n",
              "          const element = document.querySelector('#df-39174a9b-c8cb-472a-9102-6126820ab5f5');\n",
              "          const dataTable =\n",
              "            await google.colab.kernel.invokeFunction('convertToInteractive',\n",
              "                                                     [key], {});\n",
              "          if (!dataTable) return;\n",
              "\n",
              "          const docLinkHtml = 'Like what you see? Visit the ' +\n",
              "            '<a target=\"_blank\" href=https://colab.research.google.com/notebooks/data_table.ipynb>data table notebook</a>'\n",
              "            + ' to learn more about interactive tables.';\n",
              "          element.innerHTML = '';\n",
              "          dataTable['output_type'] = 'display_data';\n",
              "          await google.colab.output.renderOutput(dataTable, element);\n",
              "          const docLink = document.createElement('div');\n",
              "          docLink.innerHTML = docLinkHtml;\n",
              "          element.appendChild(docLink);\n",
              "        }\n",
              "      </script>\n",
              "    </div>\n",
              "  </div>\n",
              "  "
            ]
          },
          "metadata": {},
          "execution_count": 4
        }
      ]
    },
    {
      "cell_type": "code",
      "source": [
        "df.info()"
      ],
      "metadata": {
        "colab": {
          "base_uri": "https://localhost:8080/"
        },
        "id": "Z_s8RkYyIWRY",
        "outputId": "09a9d6fb-4e75-47cc-fcaa-abd9873b0f01"
      },
      "execution_count": 5,
      "outputs": [
        {
          "output_type": "stream",
          "name": "stdout",
          "text": [
            "<class 'pandas.core.frame.DataFrame'>\n",
            "RangeIndex: 113469 entries, 0 to 113468\n",
            "Data columns (total 14 columns):\n",
            " #   Column                 Non-Null Count   Dtype  \n",
            "---  ------                 --------------   -----  \n",
            " 0   Unnamed: 0             113469 non-null  int64  \n",
            " 1   country                113417 non-null  object \n",
            " 2   description            113469 non-null  object \n",
            " 3   designation            80768 non-null   object \n",
            " 4   points                 113469 non-null  int64  \n",
            " 5   price                  105546 non-null  float64\n",
            " 6   province               113417 non-null  object \n",
            " 7   region_1               94872 non-null   object \n",
            " 8   region_2               43885 non-null   object \n",
            " 9   taster_name            90430 non-null   object \n",
            " 10  taster_twitter_handle  86115 non-null   object \n",
            " 11  title                  113469 non-null  object \n",
            " 12  variety                113467 non-null  object \n",
            " 13  winery                 113468 non-null  object \n",
            "dtypes: float64(1), int64(2), object(11)\n",
            "memory usage: 12.1+ MB\n"
          ]
        }
      ]
    },
    {
      "cell_type": "code",
      "source": [
        "df[\"country\"].value_counts()"
      ],
      "metadata": {
        "colab": {
          "base_uri": "https://localhost:8080/"
        },
        "id": "rawnFo_qIbDo",
        "outputId": "defedf50-3b81-4499-de08-754de2475da2"
      },
      "execution_count": 6,
      "outputs": [
        {
          "output_type": "execute_result",
          "data": {
            "text/plain": [
              "US                        47360\n",
              "France                    19374\n",
              "Italy                     17231\n",
              "Spain                      5758\n",
              "Portugal                   5005\n",
              "Chile                      3905\n",
              "Argentina                  3324\n",
              "Austria                    2938\n",
              "Australia                  2023\n",
              "Germany                    1884\n",
              "New Zealand                1246\n",
              "South Africa               1237\n",
              "Israel                      435\n",
              "Greece                      395\n",
              "Canada                      204\n",
              "Hungary                     121\n",
              "Bulgaria                    118\n",
              "Romania                      96\n",
              "Uruguay                      94\n",
              "Turkey                       78\n",
              "Georgia                      77\n",
              "Slovenia                     72\n",
              "Croatia                      64\n",
              "England                      64\n",
              "Mexico                       62\n",
              "Brazil                       52\n",
              "Moldova                      49\n",
              "Lebanon                      31\n",
              "Morocco                      25\n",
              "Peru                         15\n",
              "Czech Republic               11\n",
              "Ukraine                      11\n",
              "Serbia                       11\n",
              "Cyprus                       10\n",
              "Macedonia                    10\n",
              "India                         8\n",
              "Luxembourg                    6\n",
              "Switzerland                   6\n",
              "Bosnia and Herzegovina        2\n",
              "Armenia                       2\n",
              "Slovakia                      1\n",
              "China                         1\n",
              "Egypt                         1\n",
              "Name: country, dtype: int64"
            ]
          },
          "metadata": {},
          "execution_count": 6
        }
      ]
    },
    {
      "cell_type": "code",
      "source": [
        "df2=df.copy()"
      ],
      "metadata": {
        "id": "OOzQWZbWIg_o"
      },
      "execution_count": 7,
      "outputs": []
    },
    {
      "cell_type": "code",
      "source": [
        "df3=df2.drop(['Unnamed: 0', 'designation', 'region_1', 'region_2', 'taster_name','taster_twitter_handle'],axis=1)"
      ],
      "metadata": {
        "id": "qRm_vUiIIlRJ"
      },
      "execution_count": 8,
      "outputs": []
    },
    {
      "cell_type": "code",
      "source": [
        "print(\"{:.0%}\".format(df3[\"price\"].count()/df3.shape[0]))"
      ],
      "metadata": {
        "colab": {
          "base_uri": "https://localhost:8080/"
        },
        "id": "WcNd5VthItSo",
        "outputId": "9fef36f5-6fc0-478a-c92d-04a6fcf67759"
      },
      "execution_count": 9,
      "outputs": [
        {
          "output_type": "stream",
          "name": "stdout",
          "text": [
            "93%\n"
          ]
        }
      ]
    },
    {
      "cell_type": "code",
      "source": [
        "import numpy as np\n",
        "import matplotlib.pyplot as plt\n",
        "import seaborn as sns\n",
        "sns.set()"
      ],
      "metadata": {
        "id": "ZdIEzcswI1Ow"
      },
      "execution_count": 10,
      "outputs": []
    },
    {
      "cell_type": "code",
      "source": [
        "top_country=df3[\"country\"].value_counts()[:10]\n",
        "top_country"
      ],
      "metadata": {
        "colab": {
          "base_uri": "https://localhost:8080/"
        },
        "id": "afDEzQRPJLU9",
        "outputId": "6eaccb1c-69bc-4d0c-9a79-3dd317a60b54"
      },
      "execution_count": 14,
      "outputs": [
        {
          "output_type": "execute_result",
          "data": {
            "text/plain": [
              "US           47360\n",
              "France       19374\n",
              "Italy        17231\n",
              "Spain         5758\n",
              "Portugal      5005\n",
              "Chile         3905\n",
              "Argentina     3324\n",
              "Austria       2938\n",
              "Australia     2023\n",
              "Germany       1884\n",
              "Name: country, dtype: int64"
            ]
          },
          "metadata": {},
          "execution_count": 14
        }
      ]
    },
    {
      "cell_type": "code",
      "source": [
        "plt.figure(figsize=(10,7))\n",
        "top_country.plot(kind=\"bar\",color=\"blue\")\n",
        "plt.title(\"Number of Wine Ratings by Country\",fontsize=15)\n",
        "plt.xlabel(\"Country\")\n",
        "plt.ylabel(\"Number of Ratings\")"
      ],
      "metadata": {
        "colab": {
          "base_uri": "https://localhost:8080/",
          "height": 527
        },
        "id": "JKUVkv16JC-I",
        "outputId": "d3a4779a-74d2-4cd8-fba8-44d5f32ade3f"
      },
      "execution_count": 15,
      "outputs": [
        {
          "output_type": "execute_result",
          "data": {
            "text/plain": [
              "Text(0, 0.5, 'Number of Ratings')"
            ]
          },
          "metadata": {},
          "execution_count": 15
        },
        {
          "output_type": "display_data",
          "data": {
            "text/plain": [
              "<Figure size 720x504 with 1 Axes>"
            ],
            "image/png": "[encoded data removed]"
          },
          "metadata": {}
        }
      ]
    },
    {
      "cell_type": "code",
      "source": [
        "plt.figure(figsize=(10,7))\n",
        "bins=np.arange(0,df3[\"price\"].max()+5,5)\n",
        "plt.hist(data=df3,x=\"price\",bins=bins,color=\"blue\")\n",
        "plt.xlim(0,200)\n",
        "plt.title(\"Distribution of wine prices\",fontsize=15)\n",
        "plt.xlabel(\"Price($)\")\n",
        "plt.ylabel(\"Frequency\")"
      ],
      "metadata": {
        "colab": {
          "base_uri": "https://localhost:8080/",
          "height": 483
        },
        "id": "btTc7VB5JXzb",
        "outputId": "569cd597-f824-4261-a7c2-c3a09b107db3"
      },
      "execution_count": 17,
      "outputs": [
        {
          "output_type": "execute_result",
          "data": {
            "text/plain": [
              "Text(0, 0.5, 'Frequency')"
            ]
          },
          "metadata": {},
          "execution_count": 17
        },
        {
          "output_type": "display_data",
          "data": {
            "text/plain": [
              "<Figure size 720x504 with 1 Axes>"
            ],
            "image/png": "[encoded data removed]"
          },
          "metadata": {}
        }
      ]
    },
    {
      "cell_type": "code",
      "source": [
        "plt.figure(figsize=(10,7))\n",
        "bins=10**np.arange(0.5,3.5+0.05,0.05)\n",
        "ticks=[1,3,10,30,100,300,1000,3000,10000]\n",
        "plt.hist(data=df3,x=\"price\",bins=bins,color=\"blue\")\n",
        "plt.title(\"Distribution of wine prices\",fontsize=15)\n",
        "plt.xscale(\"log\")\n",
        "plt.xticks(ticks,ticks)\n",
        "plt.xlabel(\"Price($)\")\n",
        "plt.ylabel(\"Frequency\")"
      ],
      "metadata": {
        "colab": {
          "base_uri": "https://localhost:8080/",
          "height": 483
        },
        "id": "WGQuh2fZJiqR",
        "outputId": "e7029924-b6ea-4a9f-b092-bf7d31e5b015"
      },
      "execution_count": 18,
      "outputs": [
        {
          "output_type": "execute_result",
          "data": {
            "text/plain": [
              "Text(0, 0.5, 'Frequency')"
            ]
          },
          "metadata": {},
          "execution_count": 18
        },
        {
          "output_type": "display_data",
          "data": {
            "text/plain": [
              "<Figure size 720x504 with 1 Axes>"
            ],
            "image/png": "[encoded data removed]"
          },
          "metadata": {}
        }
      ]
    },
    {
      "cell_type": "code",
      "source": [
        "plt.figure(figsize=(10,7))\n",
        "bins=10**np.arange(0.5,3.5+0.05,0.05)\n",
        "ticks=[1,3,10,30,100,300,1000,3000,10000]\n",
        "plt.hist(data=df3,x=\"price\",bins=bins,color=\"blue\")\n",
        "plt.title(\"Distribution of wine prices\",fontsize=15)\n",
        "plt.xscale(\"log\")\n",
        "plt.xticks(ticks,ticks)\n",
        "plt.xlabel(\"Price($)\")\n",
        "plt.ylabel(\"Frequency\")"
      ],
      "metadata": {
        "colab": {
          "base_uri": "https://localhost:8080/",
          "height": 483
        },
        "id": "JLRBVcLxJqcp",
        "outputId": "0799bc51-7b8a-4766-9281-76d3ad950d00"
      },
      "execution_count": 19,
      "outputs": [
        {
          "output_type": "execute_result",
          "data": {
            "text/plain": [
              "Text(0, 0.5, 'Frequency')"
            ]
          },
          "metadata": {},
          "execution_count": 19
        },
        {
          "output_type": "display_data",
          "data": {
            "text/plain": [
              "<Figure size 720x504 with 1 Axes>"
            ],
            "image/png": "[encoded data removed]"
          },
          "metadata": {}
        }
      ]
    }
  ]
}